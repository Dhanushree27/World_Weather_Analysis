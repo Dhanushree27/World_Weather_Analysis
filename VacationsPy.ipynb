{
 "cells": [
  {
   "cell_type": "code",
   "execution_count": 2,
   "id": "38e1a5c4",
   "metadata": {},
   "outputs": [],
   "source": [
    "# Import the dependencies\n",
    "import pandas as pd\n",
    "import gmaps\n",
    "import requests\n",
    "\n",
    "# Import key\n",
    "from config import g_key"
   ]
  },
  {
   "cell_type": "code",
   "execution_count": 3,
   "id": "02b2df4e",
   "metadata": {},
   "outputs": [
    {
     "data": {
      "text/html": [
       "<div>\n",
       "<style scoped>\n",
       "    .dataframe tbody tr th:only-of-type {\n",
       "        vertical-align: middle;\n",
       "    }\n",
       "\n",
       "    .dataframe tbody tr th {\n",
       "        vertical-align: top;\n",
       "    }\n",
       "\n",
       "    .dataframe thead th {\n",
       "        text-align: right;\n",
       "    }\n",
       "</style>\n",
       "<table border=\"1\" class=\"dataframe\">\n",
       "  <thead>\n",
       "    <tr style=\"text-align: right;\">\n",
       "      <th></th>\n",
       "      <th>City_ID</th>\n",
       "      <th>City</th>\n",
       "      <th>Country</th>\n",
       "      <th>Date</th>\n",
       "      <th>Lat</th>\n",
       "      <th>Lng</th>\n",
       "      <th>Max Temp</th>\n",
       "      <th>Humidity</th>\n",
       "      <th>Cloudiness</th>\n",
       "      <th>Wind Speed</th>\n",
       "    </tr>\n",
       "  </thead>\n",
       "  <tbody>\n",
       "    <tr>\n",
       "      <th>0</th>\n",
       "      <td>0</td>\n",
       "      <td>esmeralda</td>\n",
       "      <td>CU</td>\n",
       "      <td>2021-11-08 18:28:51</td>\n",
       "      <td>21.8525</td>\n",
       "      <td>-78.1169</td>\n",
       "      <td>81.64</td>\n",
       "      <td>55</td>\n",
       "      <td>95</td>\n",
       "      <td>9.44</td>\n",
       "    </tr>\n",
       "    <tr>\n",
       "      <th>1</th>\n",
       "      <td>1</td>\n",
       "      <td>east london</td>\n",
       "      <td>ZA</td>\n",
       "      <td>2021-11-08 18:28:52</td>\n",
       "      <td>-33.0153</td>\n",
       "      <td>27.9116</td>\n",
       "      <td>59.94</td>\n",
       "      <td>94</td>\n",
       "      <td>75</td>\n",
       "      <td>11.50</td>\n",
       "    </tr>\n",
       "    <tr>\n",
       "      <th>2</th>\n",
       "      <td>2</td>\n",
       "      <td>bredasdorp</td>\n",
       "      <td>ZA</td>\n",
       "      <td>2021-11-08 18:28:52</td>\n",
       "      <td>-34.5322</td>\n",
       "      <td>20.0403</td>\n",
       "      <td>58.32</td>\n",
       "      <td>67</td>\n",
       "      <td>58</td>\n",
       "      <td>5.75</td>\n",
       "    </tr>\n",
       "    <tr>\n",
       "      <th>3</th>\n",
       "      <td>3</td>\n",
       "      <td>kodiak</td>\n",
       "      <td>US</td>\n",
       "      <td>2021-11-08 18:28:52</td>\n",
       "      <td>57.7900</td>\n",
       "      <td>-152.4072</td>\n",
       "      <td>35.11</td>\n",
       "      <td>69</td>\n",
       "      <td>1</td>\n",
       "      <td>13.80</td>\n",
       "    </tr>\n",
       "    <tr>\n",
       "      <th>4</th>\n",
       "      <td>4</td>\n",
       "      <td>tekirdag</td>\n",
       "      <td>TR</td>\n",
       "      <td>2021-11-08 18:28:53</td>\n",
       "      <td>40.9780</td>\n",
       "      <td>27.5085</td>\n",
       "      <td>52.95</td>\n",
       "      <td>69</td>\n",
       "      <td>100</td>\n",
       "      <td>4.36</td>\n",
       "    </tr>\n",
       "  </tbody>\n",
       "</table>\n",
       "</div>"
      ],
      "text/plain": [
       "   City_ID         City Country                 Date      Lat       Lng  \\\n",
       "0        0    esmeralda      CU  2021-11-08 18:28:51  21.8525  -78.1169   \n",
       "1        1  east london      ZA  2021-11-08 18:28:52 -33.0153   27.9116   \n",
       "2        2   bredasdorp      ZA  2021-11-08 18:28:52 -34.5322   20.0403   \n",
       "3        3       kodiak      US  2021-11-08 18:28:52  57.7900 -152.4072   \n",
       "4        4     tekirdag      TR  2021-11-08 18:28:53  40.9780   27.5085   \n",
       "\n",
       "   Max Temp  Humidity  Cloudiness  Wind Speed  \n",
       "0     81.64        55          95        9.44  \n",
       "1     59.94        94          75       11.50  \n",
       "2     58.32        67          58        5.75  \n",
       "3     35.11        69           1       13.80  \n",
       "4     52.95        69         100        4.36  "
      ]
     },
     "execution_count": 3,
     "metadata": {},
     "output_type": "execute_result"
    }
   ],
   "source": [
    "# Read the file\n",
    "file_to_read='weather_data/cities.csv'\n",
    "city_data_df=pd.read_csv(file_to_read)\n",
    "city_data_df.head()"
   ]
  },
  {
   "cell_type": "code",
   "execution_count": 4,
   "id": "52a4014a",
   "metadata": {},
   "outputs": [
    {
     "data": {
      "text/plain": [
       "City_ID         int64\n",
       "City           object\n",
       "Country        object\n",
       "Date           object\n",
       "Lat           float64\n",
       "Lng           float64\n",
       "Max Temp      float64\n",
       "Humidity        int64\n",
       "Cloudiness      int64\n",
       "Wind Speed    float64\n",
       "dtype: object"
      ]
     },
     "execution_count": 4,
     "metadata": {},
     "output_type": "execute_result"
    }
   ],
   "source": [
    "city_data_df.dtypes"
   ]
  },
  {
   "cell_type": "code",
   "execution_count": 5,
   "id": "57e588b7",
   "metadata": {},
   "outputs": [],
   "source": [
    "# Configure gmaps to use Google API key\n",
    "gmaps.configure(api_key=g_key)"
   ]
  },
  {
   "cell_type": "code",
   "execution_count": 6,
   "id": "9d9b417a",
   "metadata": {},
   "outputs": [],
   "source": [
    "# Replace negative temperatures with zero [Maps can't use negative values]\n",
    "\n",
    "max_temp=city_data_df[\"Max Temp\"]\n",
    "temps=[]\n",
    "for temp in max_temp:\n",
    "    temps.append(max(temp,0))\n",
    "\n",
    "# Not used. Instead same code was written in a line"
   ]
  },
  {
   "cell_type": "code",
   "execution_count": 19,
   "id": "c19dfbb5",
   "metadata": {},
   "outputs": [
    {
     "data": {
      "application/vnd.jupyter.widget-view+json": {
       "model_id": "d707bb0553be426fb270aff454c62d0b",
       "version_major": 2,
       "version_minor": 0
      },
      "text/plain": [
       "Figure(layout=FigureLayout(height='420px'))"
      ]
     },
     "metadata": {},
     "output_type": "display_data"
    }
   ],
   "source": [
    "# Heatmap for Temperature\n",
    "# Array of locations\n",
    "locations=city_data_df[[\"Lat\",\"Lng\"]]\n",
    "# Assign the weights variable (variable to create heatmap with)\n",
    "temperature=city_data_df[\"Max Temp\"]\n",
    "# Create a gmaps fig plot\n",
    "fig=gmaps.figure(center=(30.0,31.0),zoom_level=1.5)\n",
    "# Create a heatmap layer using gmaps heatmap layer function\n",
    "heatmap_layer=gmaps.heatmap_layer(locations,weights=[max(temp,0) for temp in temperature], \n",
    "                                  dissipating=False, max_intensity=300,\n",
    "                                 point_radius=4)\n",
    "# Add heatmap layer to a map\n",
    "fig.add_layer(heatmap_layer)\n",
    "# Display the map\n",
    "fig"
   ]
  },
  {
   "cell_type": "code",
   "execution_count": 20,
   "id": "62e51995",
   "metadata": {},
   "outputs": [
    {
     "data": {
      "application/vnd.jupyter.widget-view+json": {
       "model_id": "96fe267b30b84ca48258c0cd7c32fdbe",
       "version_major": 2,
       "version_minor": 0
      },
      "text/plain": [
       "Figure(layout=FigureLayout(height='420px'))"
      ]
     },
     "metadata": {},
     "output_type": "display_data"
    }
   ],
   "source": [
    "# Heatmap for Humidity\n",
    "# Array of locations\n",
    "locations=city_data_df[[\"Lat\",\"Lng\"]]\n",
    "# Assign the weights variable (variable to create heatmap with)\n",
    "humidity=city_data_df[\"Humidity\"]\n",
    "# Create a gmaps fig plot\n",
    "fig=gmaps.figure(center=(30.0,31.0),zoom_level=1.5)\n",
    "# Create a heatmap layer using gmaps heatmap layer function\n",
    "heatmap_layer=gmaps.heatmap_layer(locations,weights=humidity, \n",
    "                                  dissipating=False, max_intensity=300,\n",
    "                                 point_radius=4)\n",
    "# Add heatmap layer to a map\n",
    "fig.add_layer(heatmap_layer)\n",
    "# Display the map\n",
    "fig"
   ]
  },
  {
   "cell_type": "code",
   "execution_count": 21,
   "id": "e101ce76",
   "metadata": {},
   "outputs": [
    {
     "data": {
      "application/vnd.jupyter.widget-view+json": {
       "model_id": "d555abb13ad846df9a0f9ca1ebfa70e5",
       "version_major": 2,
       "version_minor": 0
      },
      "text/plain": [
       "Figure(layout=FigureLayout(height='420px'))"
      ]
     },
     "metadata": {},
     "output_type": "display_data"
    }
   ],
   "source": [
    "# Heatmap for Cloudiness\n",
    "# Array of locations\n",
    "locations=city_data_df[[\"Lat\",\"Lng\"]]\n",
    "# Assign the weights variable (variable to create heatmap with)\n",
    "cloudiness=city_data_df[\"Cloudiness\"]\n",
    "# Create a gmaps fig plot\n",
    "fig=gmaps.figure(center=(30.0,31.0),zoom_level=1.5)\n",
    "# Create a heatmap layer using gmaps heatmap layer function\n",
    "heatmap_layer=gmaps.heatmap_layer(locations,weights=cloudiness, \n",
    "                                  dissipating=False, max_intensity=300,\n",
    "                                 point_radius=4)\n",
    "# Add heatmap layer to a map\n",
    "fig.add_layer(heatmap_layer)\n",
    "# Display the map\n",
    "fig"
   ]
  },
  {
   "cell_type": "code",
   "execution_count": 22,
   "id": "d165221c",
   "metadata": {},
   "outputs": [
    {
     "data": {
      "application/vnd.jupyter.widget-view+json": {
       "model_id": "453a795d4fd24699bd9329ac869d78a3",
       "version_major": 2,
       "version_minor": 0
      },
      "text/plain": [
       "Figure(layout=FigureLayout(height='420px'))"
      ]
     },
     "metadata": {},
     "output_type": "display_data"
    }
   ],
   "source": [
    "# Heatmap for Wind Speed\n",
    "# Array of locations\n",
    "locations=city_data_df[[\"Lat\",\"Lng\"]]\n",
    "# Assign the weights variable (variable to create heatmap with)\n",
    "wind_speed=city_data_df[\"Wind Speed\"]\n",
    "# Create a gmaps fig plot\n",
    "fig=gmaps.figure(center=(30.0,31.0),zoom_level=1.5)\n",
    "# Create a heatmap layer using gmaps heatmap layer function\n",
    "heatmap_layer=gmaps.heatmap_layer(locations,weights=wind_speed, \n",
    "                                  dissipating=False, max_intensity=300,\n",
    "                                 point_radius=4)\n",
    "# Add heatmap layer to a map\n",
    "fig.add_layer(heatmap_layer)\n",
    "# Display the map\n",
    "fig"
   ]
  },
  {
   "cell_type": "code",
   "execution_count": 23,
   "id": "0cf0140b",
   "metadata": {},
   "outputs": [
    {
     "name": "stdout",
     "output_type": "stream",
     "text": [
      "What is the minimum temperature you would like for your trip? 75\n",
      "What is the maximum temperature you would like for your trip? 90\n"
     ]
    }
   ],
   "source": [
    "# Ask the customer to add a minimum and maximum temperature value.\n",
    "min_temp = float(input(\"What is the minimum temperature you would like for your trip? \"))\n",
    "max_temp = float(input(\"What is the maximum temperature you would like for your trip? \"))"
   ]
  },
  {
   "cell_type": "code",
   "execution_count": 26,
   "id": "83a1da45",
   "metadata": {},
   "outputs": [
    {
     "data": {
      "text/html": [
       "<div>\n",
       "<style scoped>\n",
       "    .dataframe tbody tr th:only-of-type {\n",
       "        vertical-align: middle;\n",
       "    }\n",
       "\n",
       "    .dataframe tbody tr th {\n",
       "        vertical-align: top;\n",
       "    }\n",
       "\n",
       "    .dataframe thead th {\n",
       "        text-align: right;\n",
       "    }\n",
       "</style>\n",
       "<table border=\"1\" class=\"dataframe\">\n",
       "  <thead>\n",
       "    <tr style=\"text-align: right;\">\n",
       "      <th></th>\n",
       "      <th>City_ID</th>\n",
       "      <th>City</th>\n",
       "      <th>Country</th>\n",
       "      <th>Date</th>\n",
       "      <th>Lat</th>\n",
       "      <th>Lng</th>\n",
       "      <th>Max Temp</th>\n",
       "      <th>Humidity</th>\n",
       "      <th>Cloudiness</th>\n",
       "      <th>Wind Speed</th>\n",
       "    </tr>\n",
       "  </thead>\n",
       "  <tbody>\n",
       "    <tr>\n",
       "      <th>0</th>\n",
       "      <td>0</td>\n",
       "      <td>esmeralda</td>\n",
       "      <td>CU</td>\n",
       "      <td>2021-11-08 18:28:51</td>\n",
       "      <td>21.8525</td>\n",
       "      <td>-78.1169</td>\n",
       "      <td>81.64</td>\n",
       "      <td>55</td>\n",
       "      <td>95</td>\n",
       "      <td>9.44</td>\n",
       "    </tr>\n",
       "    <tr>\n",
       "      <th>10</th>\n",
       "      <td>10</td>\n",
       "      <td>kapaa</td>\n",
       "      <td>US</td>\n",
       "      <td>2021-11-08 18:28:54</td>\n",
       "      <td>22.0752</td>\n",
       "      <td>-159.3190</td>\n",
       "      <td>77.32</td>\n",
       "      <td>78</td>\n",
       "      <td>75</td>\n",
       "      <td>16.11</td>\n",
       "    </tr>\n",
       "    <tr>\n",
       "      <th>17</th>\n",
       "      <td>17</td>\n",
       "      <td>georgetown</td>\n",
       "      <td>MY</td>\n",
       "      <td>2021-11-08 18:28:56</td>\n",
       "      <td>5.4112</td>\n",
       "      <td>100.3354</td>\n",
       "      <td>78.73</td>\n",
       "      <td>93</td>\n",
       "      <td>40</td>\n",
       "      <td>3.44</td>\n",
       "    </tr>\n",
       "    <tr>\n",
       "      <th>21</th>\n",
       "      <td>21</td>\n",
       "      <td>hithadhoo</td>\n",
       "      <td>MV</td>\n",
       "      <td>2021-11-08 18:28:57</td>\n",
       "      <td>-0.6000</td>\n",
       "      <td>73.0833</td>\n",
       "      <td>82.56</td>\n",
       "      <td>74</td>\n",
       "      <td>94</td>\n",
       "      <td>14.81</td>\n",
       "    </tr>\n",
       "    <tr>\n",
       "      <th>22</th>\n",
       "      <td>22</td>\n",
       "      <td>butaritari</td>\n",
       "      <td>KI</td>\n",
       "      <td>2021-11-08 18:28:57</td>\n",
       "      <td>3.0707</td>\n",
       "      <td>172.7902</td>\n",
       "      <td>81.75</td>\n",
       "      <td>71</td>\n",
       "      <td>5</td>\n",
       "      <td>14.85</td>\n",
       "    </tr>\n",
       "  </tbody>\n",
       "</table>\n",
       "</div>"
      ],
      "text/plain": [
       "    City_ID        City Country                 Date      Lat       Lng  \\\n",
       "0         0   esmeralda      CU  2021-11-08 18:28:51  21.8525  -78.1169   \n",
       "10       10       kapaa      US  2021-11-08 18:28:54  22.0752 -159.3190   \n",
       "17       17  georgetown      MY  2021-11-08 18:28:56   5.4112  100.3354   \n",
       "21       21   hithadhoo      MV  2021-11-08 18:28:57  -0.6000   73.0833   \n",
       "22       22  butaritari      KI  2021-11-08 18:28:57   3.0707  172.7902   \n",
       "\n",
       "    Max Temp  Humidity  Cloudiness  Wind Speed  \n",
       "0      81.64        55          95        9.44  \n",
       "10     77.32        78          75       16.11  \n",
       "17     78.73        93          40        3.44  \n",
       "21     82.56        74          94       14.81  \n",
       "22     81.75        71           5       14.85  "
      ]
     },
     "execution_count": 26,
     "metadata": {},
     "output_type": "execute_result"
    }
   ],
   "source": [
    "# Creaating a filtered df\n",
    "selected_df=city_data_df.loc[(city_data_df[\"Max Temp\"]>=min_temp)&(city_data_df[\"Max Temp\"]<=max_temp)]\n",
    "selected_df.head()"
   ]
  },
  {
   "cell_type": "code",
   "execution_count": 28,
   "id": "c7431e7a",
   "metadata": {},
   "outputs": [
    {
     "data": {
      "text/plain": [
       "City_ID       0\n",
       "City          0\n",
       "Country       0\n",
       "Date          0\n",
       "Lat           0\n",
       "Lng           0\n",
       "Max Temp      0\n",
       "Humidity      0\n",
       "Cloudiness    0\n",
       "Wind Speed    0\n",
       "dtype: int64"
      ]
     },
     "execution_count": 28,
     "metadata": {},
     "output_type": "execute_result"
    }
   ],
   "source": [
    "# Checking for null values\n",
    "selected_df.isnull().sum()"
   ]
  },
  {
   "cell_type": "code",
   "execution_count": 39,
   "id": "bc768def",
   "metadata": {},
   "outputs": [
    {
     "name": "stderr",
     "output_type": "stream",
     "text": [
      "C:\\Users\\dhanu\\anaconda3\\envs\\PythonData\\lib\\site-packages\\ipykernel_launcher.py:2: SettingWithCopyWarning: \n",
      "A value is trying to be set on a copy of a slice from a DataFrame.\n",
      "Try using .loc[row_indexer,col_indexer] = value instead\n",
      "\n",
      "See the caveats in the documentation: https://pandas.pydata.org/pandas-docs/stable/user_guide/indexing.html#returning-a-view-versus-a-copy\n",
      "  \n"
     ]
    },
    {
     "data": {
      "text/html": [
       "<div>\n",
       "<style scoped>\n",
       "    .dataframe tbody tr th:only-of-type {\n",
       "        vertical-align: middle;\n",
       "    }\n",
       "\n",
       "    .dataframe tbody tr th {\n",
       "        vertical-align: top;\n",
       "    }\n",
       "\n",
       "    .dataframe thead th {\n",
       "        text-align: right;\n",
       "    }\n",
       "</style>\n",
       "<table border=\"1\" class=\"dataframe\">\n",
       "  <thead>\n",
       "    <tr style=\"text-align: right;\">\n",
       "      <th></th>\n",
       "      <th>City</th>\n",
       "      <th>Country</th>\n",
       "      <th>Lat</th>\n",
       "      <th>Lng</th>\n",
       "      <th>Max Temp</th>\n",
       "      <th>Hotel Name</th>\n",
       "    </tr>\n",
       "  </thead>\n",
       "  <tbody>\n",
       "    <tr>\n",
       "      <th>0</th>\n",
       "      <td>esmeralda</td>\n",
       "      <td>CU</td>\n",
       "      <td>21.8525</td>\n",
       "      <td>-78.1169</td>\n",
       "      <td>81.64</td>\n",
       "      <td></td>\n",
       "    </tr>\n",
       "    <tr>\n",
       "      <th>10</th>\n",
       "      <td>kapaa</td>\n",
       "      <td>US</td>\n",
       "      <td>22.0752</td>\n",
       "      <td>-159.3190</td>\n",
       "      <td>77.32</td>\n",
       "      <td></td>\n",
       "    </tr>\n",
       "    <tr>\n",
       "      <th>17</th>\n",
       "      <td>georgetown</td>\n",
       "      <td>MY</td>\n",
       "      <td>5.4112</td>\n",
       "      <td>100.3354</td>\n",
       "      <td>78.73</td>\n",
       "      <td></td>\n",
       "    </tr>\n",
       "    <tr>\n",
       "      <th>21</th>\n",
       "      <td>hithadhoo</td>\n",
       "      <td>MV</td>\n",
       "      <td>-0.6000</td>\n",
       "      <td>73.0833</td>\n",
       "      <td>82.56</td>\n",
       "      <td></td>\n",
       "    </tr>\n",
       "    <tr>\n",
       "      <th>22</th>\n",
       "      <td>butaritari</td>\n",
       "      <td>KI</td>\n",
       "      <td>3.0707</td>\n",
       "      <td>172.7902</td>\n",
       "      <td>81.75</td>\n",
       "      <td></td>\n",
       "    </tr>\n",
       "  </tbody>\n",
       "</table>\n",
       "</div>"
      ],
      "text/plain": [
       "          City Country      Lat       Lng  Max Temp Hotel Name\n",
       "0    esmeralda      CU  21.8525  -78.1169     81.64           \n",
       "10       kapaa      US  22.0752 -159.3190     77.32           \n",
       "17  georgetown      MY   5.4112  100.3354     78.73           \n",
       "21   hithadhoo      MV  -0.6000   73.0833     82.56           \n",
       "22  butaritari      KI   3.0707  172.7902     81.75           "
      ]
     },
     "execution_count": 39,
     "metadata": {},
     "output_type": "execute_result"
    }
   ],
   "source": [
    "hotel_df=selected_df[[\"City\",\"Country\",\"Lat\",\"Lng\",\"Max Temp\"]]\n",
    "hotel_df[\"Hotel Name\"]=\"\"\n",
    "hotel_df.head()"
   ]
  },
  {
   "cell_type": "code",
   "execution_count": 42,
   "id": "2e555519",
   "metadata": {},
   "outputs": [],
   "source": [
    "# Call API to retrieve results\n",
    "base_url=\"https://maps.googleapis.com/maps/api/place/nearbysearch/json\"\n",
    "# Setting parameters to search based on\n",
    "params={\n",
    "        \"key\":g_key,\n",
    "        \"type\":\"lodging\",\n",
    "        \"radius\":5000\n",
    "        }"
   ]
  },
  {
   "cell_type": "code",
   "execution_count": 54,
   "id": "14561f5f",
   "metadata": {},
   "outputs": [
    {
     "name": "stdout",
     "output_type": "stream",
     "text": [
      "Hotel not found..skipping\n",
      "Hotel not found..skipping\n",
      "Hotel not found..skipping\n",
      "Hotel not found..skipping\n",
      "Hotel not found..skipping\n",
      "Hotel not found..skipping\n",
      "Hotel not found..skipping\n",
      "Hotel not found..skipping\n",
      "Hotel not found..skipping\n",
      "Hotel not found..skipping\n",
      "Hotel not found..skipping\n",
      "Hotel not found..skipping\n",
      "Hotel not found..skipping\n",
      "Hotel not found..skipping\n",
      "Hotel not found..skipping\n"
     ]
    }
   ],
   "source": [
    "# Iterate through df\n",
    "for index,row in hotel_df.iterrows():\n",
    "    # Retrieving lat and lng\n",
    "    lat=row[\"Lat\"]\n",
    "    lng=row[\"Lng\"]\n",
    "    # Adding it to the parameter file\n",
    "    params[\"location\"]=f\"{lat},{lng}\"\n",
    "    \n",
    "     \n",
    "    # Querying the API\n",
    "    response=requests.get(base_url,params=params).json()\n",
    "    try:\n",
    "        hotel_df.loc[index,\"Hotel Name\"]=response[\"results\"][0][\"name\"]\n",
    "    except (IndexError):\n",
    "        print (\"Hotel not found..skipping\")"
   ]
  },
  {
   "cell_type": "code",
   "execution_count": 55,
   "id": "5850dc58",
   "metadata": {},
   "outputs": [
    {
     "data": {
      "application/vnd.jupyter.widget-view+json": {
       "model_id": "e2f791c079ef4ce09fba20de94d0c43c",
       "version_major": 2,
       "version_minor": 0
      },
      "text/plain": [
       "Figure(layout=FigureLayout(height='420px'))"
      ]
     },
     "metadata": {},
     "output_type": "display_data"
    }
   ],
   "source": [
    "# Heatmap for Temperature\n",
    "# Array of locations\n",
    "locations=hotel_df[[\"Lat\",\"Lng\"]]\n",
    "# Assign the weights variable (variable to create heatmap with)\n",
    "temperature=hotel_df[\"Max Temp\"]\n",
    "# Create a gmaps fig plot\n",
    "fig=gmaps.figure(center=(30.0,31.0),zoom_level=1.5)\n",
    "# Create a heatmap layer using gmaps heatmap layer function\n",
    "heatmap_layer=gmaps.heatmap_layer(locations,weights=[max(temp,0) for temp in temperature], \n",
    "                                  dissipating=False, max_intensity=300,\n",
    "                                 point_radius=4)\n",
    "# Marker layer\n",
    "info_box_template = \"\"\"\n",
    "<dl>\n",
    "<dt>Hotel Name</dt><dd>{Hotel Name}</dd>\n",
    "<dt>City</dt><dd>{City}</dd>\n",
    "<dt>Country</dt><dd>{Country}</dd>\n",
    "<dt>Max Temp</dt><dd>{Max Temp}</dd>\n",
    "</dl>\n",
    "\"\"\"\n",
    "hotel_info=[info_box_template.format(**row) for index,row in hotel_df.iterrows()]\n",
    "marker_layer=gmaps.marker_layer(locations,info_box_content=hotel_info)\n",
    "# Add heatmap layer to the map\n",
    "fig.add_layer(heatmap_layer)\n",
    "# Add marker layer to the map\n",
    "fig.add_layer(marker_layer)\n",
    "# Display the map\n",
    "fig"
   ]
  },
  {
   "cell_type": "code",
   "execution_count": null,
   "id": "a02aabe8",
   "metadata": {},
   "outputs": [],
   "source": []
  },
  {
   "cell_type": "code",
   "execution_count": null,
   "id": "27bd3266",
   "metadata": {},
   "outputs": [],
   "source": []
  }
 ],
 "metadata": {
  "kernelspec": {
   "display_name": "PythonData",
   "language": "python",
   "name": "pythondata"
  }
 },
 "nbformat": 4,
 "nbformat_minor": 5
}
